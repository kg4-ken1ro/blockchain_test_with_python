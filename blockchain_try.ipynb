{
  "nbformat": 4,
  "nbformat_minor": 0,
  "metadata": {
    "colab": {
      "provenance": [],
      "authorship_tag": "ABX9TyM9MCEYwv203UNqfS4FCzMi",
      "include_colab_link": true
    },
    "kernelspec": {
      "name": "python3",
      "display_name": "Python 3"
    },
    "language_info": {
      "name": "python"
    }
  },
  "cells": [
    {
      "cell_type": "markdown",
      "metadata": {
        "id": "view-in-github",
        "colab_type": "text"
      },
      "source": [
        "<a href=\"https://colab.research.google.com/github/kg4-ken1ro/blockchain_test_with_python/blob/main/blockchain_try.ipynb\" target=\"_parent\"><img src=\"https://colab.research.google.com/assets/colab-badge.svg\" alt=\"Open In Colab\"/></a>"
      ]
    },
    {
      "cell_type": "code",
      "execution_count": 1,
      "metadata": {
        "id": "dbPr6SR9UcA_"
      },
      "outputs": [],
      "source": [
        "import hashlib\n",
        "import json\n",
        "import time\n",
        "from queue import Queue\n"
      ]
    },
    {
      "cell_type": "code",
      "source": [
        "class Block:\n",
        "  def __init__(self, index, timestamp, nonce, previous_block_hash, merkle_root, transactions):\n",
        "    self.index = index #インデックス\n",
        "    self.timestamp = timestamp #タイムスタンプ\n",
        "    self.nonce = nonce #ナンス\n",
        "    self.previous_block_hash = previous_block_hash #前のブロックハッシュ値\n",
        "    self.merkle_root = merkle_root #マークルート\n",
        "    self.transactions = transactions #トランザクション値\n",
        "    self.block_hash = self.calculate_hash() #ブロックハッシュ値\n",
        "\n",
        "  def calculate_hash(self): #SHA256でハッシュ計算する関数\n",
        "    block_string = json.dumps({\n",
        "        'index': self.index, #インデックス\n",
        "        'timestamp': self.timestamp, #タイムスタンプ\n",
        "        'nonce': self.nonce, #ナンス\n",
        "        'previous_block_hash': self.previous_block_hash, #前のブロックハッシュ値\n",
        "        'merkle_root': self.merkle_root, #マークルルート\n",
        "    }, sort_keys=True).encode()\n",
        "\n",
        "    return hashlib.sha256(block_string).hexdigest()\n",
        "\n",
        "  def calculate_merkle_root(self, transactions): #マークルルートを計算する関数\n",
        "    #要素数が0の場合は、空文字のハッシュ値を返す\n",
        "    if len(transactions) == 0:\n",
        "      return hashlib.sha256(b'').hexdigest()\n",
        "\n",
        "    #要素数が1の場合は、そのトランザクションのハッシュ値を返す\n",
        "    if len (transactions) == 1:\n",
        "      return hashlib.sha256(transactions[0].encode()).hexdigest()\n",
        "\n",
        "    #要素数が奇数の場合は、最後の要素を複製して偶数にする\n",
        "    if len(transactions) % 2 == 1:\n",
        "      transactions.append(transactions[-1])\n",
        "\n",
        "    #ハッシュ値を格納するリストを初期化\n",
        "    hashes = []\n",
        "\n",
        "    #2つのトランザクションを組み合わせてハッシュ値を計算し、リストに格納する\n",
        "    for i in range(0, len(transactions), 2):\n",
        "      transaction_pair = transactions[i] + transactions[i+1]\n",
        "      hash_value = hashlib.sha256(transaction_pair.encode()).hexdigest()\n",
        "      hashes.append(hash_value)\n",
        "\n",
        "    return self.calculate_merkle_root(hashes) #再帰的にマークルルートを計算\n"
      ],
      "metadata": {
        "id": "gy3_VgM1VS9U"
      },
      "execution_count": 2,
      "outputs": []
    },
    {
      "cell_type": "code",
      "source": [
        "class Blockchain:\n",
        "  def create_genesis_block(self): #ジェネシスブロックを生成する関数\n",
        "    genesis_block = Block(\n",
        "        index=0,\n",
        "        timestamp= time.time(),\n",
        "        nonce=0,\n",
        "        previous_block_hash='',\n",
        "        merkle_root='',\n",
        "        transactions=[],\n",
        "    )\n",
        "\n",
        "    return genesis_block.__dict__\n",
        "  \n",
        "  def add_transaction(self, transaction): #トランザクションを追加する関数\n",
        "    self.transaction_pool.put(transaction)\n",
        "  \n",
        "  def mine_block(self): #マイニングする関数\n",
        "    previous_block = self.chain[-1] #直前のブロックを取得\n",
        "\n",
        "    #新しいブロックのデーターを設定\n",
        "    new_block_index = previous_block['index'] + 1\n",
        "    new_block_timestamp = time.time()\n",
        "    new_block_nonce = 0\n",
        "    new_block_previous_hash = previous_block['block_hash']\n",
        "    new_block_merkle_root = ''\n",
        "    new_block_transactions = list(self.transaction_pool.queue)\n",
        "\n",
        "    while True:\n",
        "      #新しいブロックを作成\n",
        "      new_block = Block(\n",
        "          index = new_block_index,\n",
        "          timestamp =new_block_timestamp,\n",
        "          nonce = new_block_nonce,\n",
        "          previous_block_hash = new_block_previous_hash,\n",
        "          merkle_root = new_block_merkle_root,\n",
        "          transactions = new_block_transactions\n",
        "      )\n",
        "      new_block.merkle_root = new_block.calculate_merkle_root(new_block_transactions)\n",
        "      new_block_hash = new_block.calculate_hash()\n",
        "\n",
        "      #ハッシュ値が要求された難易度より小さい場合、ブロックを追加して終了\n",
        "      if new_block_hash[:self.difficulty] == '0' * self.difficulty:\n",
        "        self.chain.append(new_block.__dict__)\n",
        "        self.transaction_pool = Queue()\n",
        "\n",
        "        return new_block.__dict__\n",
        "\n",
        "      #nonceを増やして再試行\n",
        "      new_block_nonce += 1\n",
        "\n",
        "  def __init__(self):\n",
        "    self.chain = [self.create_genesis_block()] #チェーン\n",
        "    self.transaction_pool = Queue() #トランザクションブール\n",
        "    self.difficulty = 2 #難易度\n"
      ],
      "metadata": {
        "id": "M1jC51Vpcu4G"
      },
      "execution_count": 3,
      "outputs": []
    },
    {
      "cell_type": "code",
      "source": [
        "blockchain = Blockchain()\n",
        "blockchain.add_transaction(\"Alice\")\n",
        "print(blockchain.chain)"
      ],
      "metadata": {
        "id": "hvc3SlNvdSbk",
        "colab": {
          "base_uri": "https://localhost:8080/"
        },
        "outputId": "9985c72b-b4fe-41cd-dd92-4be4bfb8d1af"
      },
      "execution_count": 4,
      "outputs": [
        {
          "output_type": "stream",
          "name": "stdout",
          "text": [
            "[{'index': 0, 'timestamp': 1686555658.8240125, 'nonce': 0, 'previous_block_hash': '', 'merkle_root': '', 'transactions': [], 'block_hash': '222a3c63f3b389044284e811d3bd42773cb38d1fa7e4c622391cc16dfa5912b5'}]\n"
          ]
        }
      ]
    },
    {
      "cell_type": "code",
      "source": [
        "blockchain.mine_block()"
      ],
      "metadata": {
        "id": "-mRIeTZkdv2F",
        "colab": {
          "base_uri": "https://localhost:8080/"
        },
        "outputId": "30eb519d-ca56-4f3a-f0c7-7c002bd3d87c"
      },
      "execution_count": 5,
      "outputs": [
        {
          "output_type": "execute_result",
          "data": {
            "text/plain": [
              "{'index': 1,\n",
              " 'timestamp': 1686555658.837591,\n",
              " 'nonce': 1026,\n",
              " 'previous_block_hash': '222a3c63f3b389044284e811d3bd42773cb38d1fa7e4c622391cc16dfa5912b5',\n",
              " 'merkle_root': '3bc51062973c458d5a6f2d8d64a023246354ad7e064b1e4e009ec8a0699a3043',\n",
              " 'transactions': ['Alice'],\n",
              " 'block_hash': '158db00c64dbb9261949192021053570d5d5ecf24c0af2925651c2a7e132fcd8'}"
            ]
          },
          "metadata": {},
          "execution_count": 5
        }
      ]
    },
    {
      "cell_type": "code",
      "source": [
        "print(blockchain.chain)"
      ],
      "metadata": {
        "id": "p89PdQBkdxyI",
        "colab": {
          "base_uri": "https://localhost:8080/"
        },
        "outputId": "847079e0-84e8-4f0a-d768-333f8ad49d9b"
      },
      "execution_count": 6,
      "outputs": [
        {
          "output_type": "stream",
          "name": "stdout",
          "text": [
            "[{'index': 0, 'timestamp': 1686555658.8240125, 'nonce': 0, 'previous_block_hash': '', 'merkle_root': '', 'transactions': [], 'block_hash': '222a3c63f3b389044284e811d3bd42773cb38d1fa7e4c622391cc16dfa5912b5'}, {'index': 1, 'timestamp': 1686555658.837591, 'nonce': 1026, 'previous_block_hash': '222a3c63f3b389044284e811d3bd42773cb38d1fa7e4c622391cc16dfa5912b5', 'merkle_root': '3bc51062973c458d5a6f2d8d64a023246354ad7e064b1e4e009ec8a0699a3043', 'transactions': ['Alice'], 'block_hash': '158db00c64dbb9261949192021053570d5d5ecf24c0af2925651c2a7e132fcd8'}]\n"
          ]
        }
      ]
    },
    {
      "cell_type": "code",
      "source": [
        "blockchain.add_transaction('Bob')\n",
        "blockchain.add_transaction('Grace')\n",
        "print(blockchain.chain)"
      ],
      "metadata": {
        "colab": {
          "base_uri": "https://localhost:8080/"
        },
        "id": "hz9PyjZNvYtT",
        "outputId": "ed291ca4-d314-4e81-9149-a52a1793c430"
      },
      "execution_count": 7,
      "outputs": [
        {
          "output_type": "stream",
          "name": "stdout",
          "text": [
            "[{'index': 0, 'timestamp': 1686555658.8240125, 'nonce': 0, 'previous_block_hash': '', 'merkle_root': '', 'transactions': [], 'block_hash': '222a3c63f3b389044284e811d3bd42773cb38d1fa7e4c622391cc16dfa5912b5'}, {'index': 1, 'timestamp': 1686555658.837591, 'nonce': 1026, 'previous_block_hash': '222a3c63f3b389044284e811d3bd42773cb38d1fa7e4c622391cc16dfa5912b5', 'merkle_root': '3bc51062973c458d5a6f2d8d64a023246354ad7e064b1e4e009ec8a0699a3043', 'transactions': ['Alice'], 'block_hash': '158db00c64dbb9261949192021053570d5d5ecf24c0af2925651c2a7e132fcd8'}]\n"
          ]
        }
      ]
    },
    {
      "cell_type": "code",
      "source": [
        "blockchain.mine_block()"
      ],
      "metadata": {
        "colab": {
          "base_uri": "https://localhost:8080/"
        },
        "id": "HC8rFTdjvzZb",
        "outputId": "beba23ce-2225-4859-f3b3-b105c5e2a6da"
      },
      "execution_count": 8,
      "outputs": [
        {
          "output_type": "execute_result",
          "data": {
            "text/plain": [
              "{'index': 2,\n",
              " 'timestamp': 1686555658.9606955,\n",
              " 'nonce': 10,\n",
              " 'previous_block_hash': '158db00c64dbb9261949192021053570d5d5ecf24c0af2925651c2a7e132fcd8',\n",
              " 'merkle_root': '8eb45a82f786577388e204d82ffbedc61fcbfaa7fc31a8fae6e0c163e35d5dd5',\n",
              " 'transactions': ['Bob', 'Grace'],\n",
              " 'block_hash': '04e40af866ed3c269dbbdde896e10494cb034868edc154275e4973df6a474554'}"
            ]
          },
          "metadata": {},
          "execution_count": 8
        }
      ]
    },
    {
      "cell_type": "code",
      "source": [
        "print(blockchain.chain)"
      ],
      "metadata": {
        "id": "psZsjX1Ywinq",
        "outputId": "4282e878-5bb0-4aad-b3bb-508fae60a5a5",
        "colab": {
          "base_uri": "https://localhost:8080/"
        }
      },
      "execution_count": 9,
      "outputs": [
        {
          "output_type": "stream",
          "name": "stdout",
          "text": [
            "[{'index': 0, 'timestamp': 1686555658.8240125, 'nonce': 0, 'previous_block_hash': '', 'merkle_root': '', 'transactions': [], 'block_hash': '222a3c63f3b389044284e811d3bd42773cb38d1fa7e4c622391cc16dfa5912b5'}, {'index': 1, 'timestamp': 1686555658.837591, 'nonce': 1026, 'previous_block_hash': '222a3c63f3b389044284e811d3bd42773cb38d1fa7e4c622391cc16dfa5912b5', 'merkle_root': '3bc51062973c458d5a6f2d8d64a023246354ad7e064b1e4e009ec8a0699a3043', 'transactions': ['Alice'], 'block_hash': '158db00c64dbb9261949192021053570d5d5ecf24c0af2925651c2a7e132fcd8'}, {'index': 2, 'timestamp': 1686555658.9606955, 'nonce': 10, 'previous_block_hash': '158db00c64dbb9261949192021053570d5d5ecf24c0af2925651c2a7e132fcd8', 'merkle_root': '8eb45a82f786577388e204d82ffbedc61fcbfaa7fc31a8fae6e0c163e35d5dd5', 'transactions': ['Bob', 'Grace'], 'block_hash': '04e40af866ed3c269dbbdde896e10494cb034868edc154275e4973df6a474554'}]\n"
          ]
        }
      ]
    }
  ]
}